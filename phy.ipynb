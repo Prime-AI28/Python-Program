{
 "cells": [
  {
   "cell_type": "code",
   "execution_count": 1,
   "metadata": {},
   "outputs": [
    {
     "name": "stdout",
     "output_type": "stream",
     "text": [
      "Valid\n",
      "2006\n"
     ]
    }
   ],
   "source": [
    "import re\n",
    "n = input()\n",
    "format_2006 = '[0-9]{1}-[0-9]{3}-[0-9]{5}-[0-9]{1}'\n",
    "format_2007 = '[0-9]{1}-[0-9]{3}-[0-9]{5}-[0-9]{4}'\n",
    "if re.search(format_2006,n):\n",
    "    print(\"Valid\")\n",
    "    print(2006)\n",
    "elif re.search(format_2007,n):\n",
    "    print(\"Valid\")\n",
    "    print(2007)\n",
    "else:\n",
    "    print(\"NONE\")"
   ]
  },
  {
   "cell_type": "code",
   "execution_count": 3,
   "metadata": {},
   "outputs": [
    {
     "name": "stdout",
     "output_type": "stream",
     "text": [
      "11\n"
     ]
    }
   ],
   "source": [
    "n = input()\n",
    "sum = 0\n",
    "for i in n:\n",
    "    if i.isnumeric():\n",
    "        sum = sum + int(i)\n",
    "print(sum)"
   ]
  },
  {
   "cell_type": "code",
   "execution_count": null,
   "metadata": {},
   "outputs": [],
   "source": [
    "n = input()\n",
    "if len(n) == 10:\n",
    "    print(\"Valid\")\n",
    "    if n[8:] == 'DL':\n",
    "        print(\"TOURIST\")\n",
    "    elif n[8:] == 'DN':\n",
    "        print(\"BUSINESS\")\n",
    "    elif n[8:] == 'DH':\n",
    "        print(\"STUDENT\")\n",
    "    elif n[8:] == 'DT':\n",
    "        print(\"INVESTOR\")\n",
    "    elif n[8:] == 'LD':\n",
    "        print(\"WORKING\")\n",
    "    elif n[8:] == 'NG':\n",
    "        print(\"DIPLOMATIC\")\n",
    "else:\n",
    "    print(\"NONE\")"
   ]
  },
  {
   "cell_type": "code",
   "execution_count": null,
   "metadata": {},
   "outputs": [],
   "source": [
    "S1 = int(input())\n",
    "X = int(input())\n",
    "y = int(input())\n",
    "d1 = S1 * (X/60)\n"
   ]
  },
  {
   "cell_type": "code",
   "execution_count": 10,
   "metadata": {},
   "outputs": [
    {
     "name": "stdout",
     "output_type": "stream",
     "text": [
      "True\n",
      "True\n"
     ]
    }
   ],
   "source": [
    "n = 'AS23'\n",
    "print(n[0:2].isalpha())\n",
    "print(n[2:5].isdigit())"
   ]
  },
  {
   "cell_type": "code",
   "execution_count": 48,
   "metadata": {},
   "outputs": [
    {
     "ename": "IndexError",
     "evalue": "list index out of range",
     "output_type": "error",
     "traceback": [
      "\u001b[1;31m---------------------------------------------------------------------------\u001b[0m",
      "\u001b[1;31mIndexError\u001b[0m                                Traceback (most recent call last)",
      "\u001b[1;32m~\\AppData\\Local\\Temp/ipykernel_24744/3640552843.py\u001b[0m in \u001b[0;36m<module>\u001b[1;34m\u001b[0m\n\u001b[0;32m     40\u001b[0m \u001b[1;32mfor\u001b[0m \u001b[0mi\u001b[0m \u001b[1;32min\u001b[0m \u001b[0mdata\u001b[0m\u001b[1;33m:\u001b[0m\u001b[1;33m\u001b[0m\u001b[1;33m\u001b[0m\u001b[0m\n\u001b[0;32m     41\u001b[0m     \u001b[0ml\u001b[0m \u001b[1;33m=\u001b[0m \u001b[0mi\u001b[0m\u001b[1;33m.\u001b[0m\u001b[0msplit\u001b[0m\u001b[1;33m(\u001b[0m\u001b[1;34m' '\u001b[0m\u001b[1;33m)\u001b[0m\u001b[1;33m\u001b[0m\u001b[1;33m\u001b[0m\u001b[0m\n\u001b[1;32m---> 42\u001b[1;33m     \u001b[0mjudge_score\u001b[0m\u001b[1;33m.\u001b[0m\u001b[0mappend\u001b[0m\u001b[1;33m(\u001b[0m\u001b[0mint\u001b[0m\u001b[1;33m(\u001b[0m\u001b[0ml\u001b[0m\u001b[1;33m[\u001b[0m\u001b[1;36m5\u001b[0m\u001b[1;33m]\u001b[0m\u001b[1;33m)\u001b[0m\u001b[1;33m)\u001b[0m\u001b[1;33m\u001b[0m\u001b[1;33m\u001b[0m\u001b[0m\n\u001b[0m\u001b[0;32m     43\u001b[0m     \u001b[0mpublic_score\u001b[0m\u001b[1;33m.\u001b[0m\u001b[0mappend\u001b[0m\u001b[1;33m(\u001b[0m\u001b[0mint\u001b[0m\u001b[1;33m(\u001b[0m\u001b[0ml\u001b[0m\u001b[1;33m[\u001b[0m\u001b[1;36m6\u001b[0m\u001b[1;33m]\u001b[0m\u001b[1;33m)\u001b[0m\u001b[1;33m)\u001b[0m\u001b[1;33m\u001b[0m\u001b[1;33m\u001b[0m\u001b[0m\n\u001b[0;32m     44\u001b[0m     \u001b[0mtotal_score\u001b[0m\u001b[1;33m.\u001b[0m\u001b[0mappend\u001b[0m\u001b[1;33m(\u001b[0m\u001b[0mint\u001b[0m\u001b[1;33m(\u001b[0m\u001b[0ml\u001b[0m\u001b[1;33m[\u001b[0m\u001b[1;36m7\u001b[0m\u001b[1;33m]\u001b[0m\u001b[1;33m)\u001b[0m\u001b[1;33m)\u001b[0m\u001b[1;33m\u001b[0m\u001b[1;33m\u001b[0m\u001b[0m\n",
      "\u001b[1;31mIndexError\u001b[0m: list index out of range"
     ]
    }
   ],
   "source": [
    "N = int(input())\n",
    "def Calc(a):\n",
    "    p = 0\n",
    "    if a>=1 and a<=5000:\n",
    "        p = 3\n",
    "    elif a<=10000:\n",
    "        p = 5\n",
    "    elif a<=15000:\n",
    "        p = 10\n",
    "    elif a<=20000:\n",
    "        p = 15\n",
    "    elif a<=25000:\n",
    "        p = 20\n",
    "    return int(p)\n",
    "\n",
    "fo = open(\"SuperSinger.txt\",\"w+\")\n",
    "for i in range(0,N):\n",
    "    Name = input()\n",
    "    J1 = int(input())\n",
    "    J2 = int(input())\n",
    "    J3 = int(input())\n",
    "    public = int(input())\n",
    "    JScore = J1 + J2 + J3\n",
    "    PScore = Calc(public)\n",
    "    Total = JScore + PScore\n",
    "\n",
    "    fo.write(Name + \" \" + str(J1) + \" \" + str(J2) + \" \" + str(J3) + \" \" + str(public) + \" \" + str(JScore) + \" \" + str(PScore) + \" \" + str(Total) + \"\\n\")\n",
    "\n",
    "fo.close()\n",
    "\n",
    "fo = open(\"SuperSinger.txt\",\"r+\")\n",
    "data = fo.readlines()\n",
    "fo.close()\n",
    "total_score = []\n",
    "judge_score = []\n",
    "public_score = []\n",
    "A =[]\n",
    "judge_27 = []\n",
    "public_15 = []\n",
    "for i in data:\n",
    "    l = i.split(' ')\n",
    "    judge_score.append(int(l[5]))\n",
    "    public_score.append(int(l[6]))\n",
    "    total_score.append(int(l[7]))\n",
    "    if l[0][0] == \"A\":\n",
    "        A.append(l[0])\n",
    "    if int(l[5]) > 27:\n",
    "        judge_27.append(l[0])\n",
    "    if int(l[6]) == 15:\n",
    "        public_15.append(l[0])\n",
    "\n",
    "TS_sorted = sorted(total_score,reverse=True)\n",
    "print(data[total_score.index(TS_sorted[0])])\n",
    "print(data[total_score.index(TS_sorted[1])])\n",
    "print(data[total_score.index(TS_sorted[2])])\n",
    "for j in A:\n",
    "    print(j,end=\"\\n\")\n",
    "for k in judge_27:\n",
    "    print(k,end=\"\\n\")\n",
    "for m in public_15:\n",
    "    print(m,end=\"\\n\")\n"
   ]
  },
  {
   "cell_type": "code",
   "execution_count": 59,
   "metadata": {},
   "outputs": [
    {
     "name": "stdout",
     "output_type": "stream",
     "text": [
      "Akash 10 9 10 24500 29 20 49\n",
      "Kavya 9 9 10 21000 28 20 48\n",
      "Ram 8 9 8 25000 25 20 45\n",
      "Arnav\n",
      "Akash\n",
      "Arnav\n",
      "Kavya\n",
      "Akash\n",
      "Shrinithi\n",
      "Kushi\n",
      "Payal\n"
     ]
    }
   ],
   "source": [
    "fo = open(\"SuperSinger.txt\",\"r+\")\n",
    "data = fo.readlines()\n",
    "fo.close()\n",
    "total_score = []\n",
    "judge_score = []\n",
    "public_score = []\n",
    "A =[]\n",
    "judge_27 = []\n",
    "public_15 = []\n",
    "for i in data:\n",
    "    l = i.split(' ')\n",
    "    judge_score.append(int(l[5]))\n",
    "    public_score.append(int(l[6]))\n",
    "    total_score.append(int(l[7]))\n",
    "    if l[0][0] == \"A\":\n",
    "        A.append(l[0])\n",
    "    if int(l[5]) > 27:\n",
    "        judge_27.append(l[0])\n",
    "    if int(l[6]) == 15:\n",
    "        public_15.append(l[0])\n",
    "\n",
    "TS_sorted = sorted(total_score,reverse=True)\n",
    "print(data[total_score.index(TS_sorted[0])])\n",
    "print(data[total_score.index(TS_sorted[1])],end=\"\")\n",
    "print(data[total_score.index(TS_sorted[2])],end = \"\")\n",
    "for j in A:\n",
    "    print(j,end=\"\\n\")\n",
    "for k in judge_27:\n",
    "    print(k,end=\"\\n\")\n",
    "for m in public_15:\n",
    "    print(m,end=\"\\n\")\n"
   ]
  },
  {
   "cell_type": "code",
   "execution_count": 56,
   "metadata": {},
   "outputs": [
    {
     "data": {
      "text/plain": [
       "['Arnav 9 9 10 10000 28 5 33 \\n',\n",
       " 'Shrinithi 10 7 9 16000 26 15 41\\n',\n",
       " 'Ram 8 9 8 25000 25 20 45\\n',\n",
       " 'Kavya 9 9 10 2100 28 3 31\\n',\n",
       " 'Mohamed 8 9 10 12000 27 10 37\\n',\n",
       " 'Suraj 9 8 9 7500 26 5 31\\n',\n",
       " 'Kushi 7 10 10 18500 27 15 42\\n',\n",
       " 'John 8 7 9 4000 24 3 27\\n',\n",
       " 'Payal 9 8 9 15800 26 15 41 \\n',\n",
       " 'Akash 10 9 10 24500 29 20 49']"
      ]
     },
     "execution_count": 56,
     "metadata": {},
     "output_type": "execute_result"
    }
   ],
   "source": [
    "data"
   ]
  },
  {
   "cell_type": "code",
   "execution_count": 53,
   "metadata": {},
   "outputs": [
    {
     "data": {
      "text/plain": [
       "'31\\n'"
      ]
     },
     "execution_count": 53,
     "metadata": {},
     "output_type": "execute_result"
    }
   ],
   "source": [
    "l[6]"
   ]
  },
  {
   "cell_type": "code",
   "execution_count": 4,
   "metadata": {},
   "outputs": [
    {
     "name": "stdout",
     "output_type": "stream",
     "text": [
      "{'username': 'XYZ', 'email': 'xyz@gmail.com', 'location': 'Mumbai'}\n",
      "{'username': 'XYZ', 'email': 'xyz@gmail.com', 'location': 'Mumbai', 'DOB': '21/4/2003'}\n"
     ]
    }
   ],
   "source": [
    "my_dict = {\"username\": \"XYZ\", \"email\": \"xyz@gmail.com\", \"location\":\"Mumbai\"}\n",
    "print(my_dict)\n",
    "my_dict['DOB'] = '21/4/2003'\n",
    "print(my_dict)"
   ]
  },
  {
   "cell_type": "code",
   "execution_count": 2,
   "metadata": {},
   "outputs": [
    {
     "data": {
      "text/plain": [
       "0.03010045226054245"
      ]
     },
     "execution_count": 2,
     "metadata": {},
     "output_type": "execute_result"
    }
   ],
   "source": [
    "2.0048426*1.020/67.937167"
   ]
  },
  {
   "cell_type": "code",
   "execution_count": null,
   "metadata": {},
   "outputs": [],
   "source": [
    "2.95"
   ]
  }
 ],
 "metadata": {
  "interpreter": {
   "hash": "b3ba2566441a7c06988d0923437866b63cedc61552a5af99d1f4fb67d367b25f"
  },
  "kernelspec": {
   "display_name": "Python 3.9.7 64-bit ('base': conda)",
   "language": "python",
   "name": "python3"
  },
  "language_info": {
   "codemirror_mode": {
    "name": "ipython",
    "version": 3
   },
   "file_extension": ".py",
   "mimetype": "text/x-python",
   "name": "python",
   "nbconvert_exporter": "python",
   "pygments_lexer": "ipython3",
   "version": "3.9.7"
  },
  "orig_nbformat": 4
 },
 "nbformat": 4,
 "nbformat_minor": 2
}
