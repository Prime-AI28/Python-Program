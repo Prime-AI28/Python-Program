{
  "nbformat": 4,
  "nbformat_minor": 0,
  "metadata": {
    "colab": {
      "name": "Numpy.ipynb",
      "provenance": [],
      "collapsed_sections": []
    },
    "kernelspec": {
      "name": "python3",
      "display_name": "Python 3"
    },
    "language_info": {
      "name": "python"
    }
  },
  "cells": [
    {
      "cell_type": "code",
      "execution_count": null,
      "metadata": {
        "colab": {
          "base_uri": "https://localhost:8080/"
        },
        "id": "MRry2IScS4R6",
        "outputId": "e2db0f37-f8c3-4677-8c4b-5f667490140c"
      },
      "outputs": [
        {
          "output_type": "stream",
          "name": "stdout",
          "text": [
            "28\n",
            "28000\n",
            "8\n",
            "8000\n"
          ]
        }
      ],
      "source": [
        "import numpy as np\n",
        "import sys\n",
        "s=list(range(1000))\n",
        "print(sys.getsizeof(1000))\n",
        "print(sys.getsizeof(1000)*len(s))\n",
        "\n",
        "a=np.arange(1000)\n",
        "print(a.itemsize)\n",
        "print(a.size*a.itemsize)\n"
      ]
    },
    {
      "cell_type": "code",
      "source": [
        "import time\n",
        "t1=time.time()\n",
        "x=range(1000)\n",
        "y=range(1000)\n",
        "z=[x[i]+y[i] for i in range(len(x))]\n",
        "print(time.time()-t1)\n",
        "\n"
      ],
      "metadata": {
        "colab": {
          "base_uri": "https://localhost:8080/"
        },
        "id": "oZFarzmkVIYK",
        "outputId": "1212a54a-5bf3-45ac-96c4-f6dfbe2b2dfd"
      },
      "execution_count": null,
      "outputs": [
        {
          "output_type": "stream",
          "name": "stdout",
          "text": [
            "0.0007736682891845703\n"
          ]
        }
      ]
    },
    {
      "cell_type": "code",
      "source": [
        "t1=time.time()\n",
        "x=np.arange(1000)\n",
        "y=np.arange(1000)\n",
        "z=x+y # Convenient\n",
        "print(time.time()-t1)"
      ],
      "metadata": {
        "colab": {
          "base_uri": "https://localhost:8080/"
        },
        "id": "wKBq78LQWUM8",
        "outputId": "6ee91c60-13f9-4bda-b190-e24208b219f0"
      },
      "execution_count": null,
      "outputs": [
        {
          "output_type": "stream",
          "name": "stdout",
          "text": [
            "0.00022459030151367188\n"
          ]
        }
      ]
    },
    {
      "cell_type": "code",
      "source": [
        "# Creating a Numpy Array\n"
      ],
      "metadata": {
        "id": "kNRkKsT9Xpms"
      },
      "execution_count": null,
      "outputs": []
    },
    {
      "cell_type": "code",
      "source": [
        "a=np.array([1,2,3,4,5]) # one dimensional array\n",
        "print(a)"
      ],
      "metadata": {
        "colab": {
          "base_uri": "https://localhost:8080/"
        },
        "id": "z_FAvM69X6lB",
        "outputId": "5211cce7-a91c-454c-9d8c-97760b0d75cd"
      },
      "execution_count": null,
      "outputs": [
        {
          "output_type": "stream",
          "name": "stdout",
          "text": [
            "[1 2 3 4 5]\n"
          ]
        }
      ]
    },
    {
      "cell_type": "code",
      "source": [
        "aa=np.array([[1,2,3],[4,5,6], [7,8,9]])  # two dimensional array\n",
        "print(aa)"
      ],
      "metadata": {
        "colab": {
          "base_uri": "https://localhost:8080/"
        },
        "id": "9W41yvK1YKUZ",
        "outputId": "30eb3961-9fe2-4813-db97-1ca2bb5f5e74"
      },
      "execution_count": null,
      "outputs": [
        {
          "output_type": "stream",
          "name": "stdout",
          "text": [
            "[[1 2 3]\n",
            " [4 5 6]\n",
            " [7 8 9]]\n"
          ]
        }
      ]
    },
    {
      "cell_type": "code",
      "source": [
        "aaa=np.array([[(1,2,3),(4,5,6),(7,8,9)],[(11,12,13),(14,15,16),(17,18,19)],[(21,22,23),(24,25,26),(27,28,29)]])  # three dimensional array\n",
        "print(aaa)\n"
      ],
      "metadata": {
        "colab": {
          "base_uri": "https://localhost:8080/"
        },
        "id": "30NYag3NY-1Y",
        "outputId": "98ff21fc-f95a-4ad7-e639-94ede98f85a1"
      },
      "execution_count": null,
      "outputs": [
        {
          "output_type": "stream",
          "name": "stdout",
          "text": [
            "[[[ 1  2  3]\n",
            "  [ 4  5  6]\n",
            "  [ 7  8  9]]\n",
            "\n",
            " [[11 12 13]\n",
            "  [14 15 16]\n",
            "  [17 18 19]]\n",
            "\n",
            " [[21 22 23]\n",
            "  [24 25 26]\n",
            "  [27 28 29]]]\n"
          ]
        }
      ]
    },
    {
      "cell_type": "code",
      "source": [
        "print(aaa.ndim)\n",
        "print(aaa.shape)\n",
        "\n",
        "print(aa.ndim)"
      ],
      "metadata": {
        "colab": {
          "base_uri": "https://localhost:8080/"
        },
        "id": "QVC-CzIjYq-4",
        "outputId": "8f073086-1033-4a9c-9281-e1a381efd7df"
      },
      "execution_count": null,
      "outputs": [
        {
          "output_type": "stream",
          "name": "stdout",
          "text": [
            "3\n",
            "(3, 3, 3)\n",
            "2\n"
          ]
        }
      ]
    },
    {
      "cell_type": "code",
      "source": [
        "print(aaa.ndim) # dimension of array\n",
        "print(aaa.itemsize)  # size of each element\n",
        "print(aaa.dtype)  # datatye of element in array\n",
        "print(aaa.size) # total no. of elements\n"
      ],
      "metadata": {
        "colab": {
          "base_uri": "https://localhost:8080/"
        },
        "id": "BY-VBuoybEog",
        "outputId": "5ac3f4b7-0cb1-4f62-b136-e66bc698c1d5"
      },
      "execution_count": null,
      "outputs": [
        {
          "output_type": "stream",
          "name": "stdout",
          "text": [
            "3\n",
            "8\n",
            "int64\n",
            "27\n"
          ]
        }
      ]
    },
    {
      "cell_type": "code",
      "source": [
        "# Accessing element of an array"
      ],
      "metadata": {
        "id": "uCugO4p2b89i"
      },
      "execution_count": null,
      "outputs": []
    },
    {
      "cell_type": "code",
      "source": [
        "a=np.array([1,2,3,4,5])\n",
        "print(a)  \n",
        "print(a[1])"
      ],
      "metadata": {
        "colab": {
          "base_uri": "https://localhost:8080/"
        },
        "id": "6VhBZOLsb_aq",
        "outputId": "8b745248-83f0-496c-d590-a2f243750e3b"
      },
      "execution_count": null,
      "outputs": [
        {
          "output_type": "stream",
          "name": "stdout",
          "text": [
            "[1 2 3 4 5]\n",
            "2\n"
          ]
        }
      ]
    },
    {
      "cell_type": "code",
      "source": [
        "print(aa)\n",
        "print(aa[1][1])"
      ],
      "metadata": {
        "colab": {
          "base_uri": "https://localhost:8080/"
        },
        "id": "BQtvbRLgc86t",
        "outputId": "878123ad-d7fc-4c54-bda1-9001cd049f19"
      },
      "execution_count": null,
      "outputs": [
        {
          "output_type": "stream",
          "name": "stdout",
          "text": [
            "[[1 2 3]\n",
            " [4 5 6]\n",
            " [7 8 9]]\n",
            "5\n"
          ]
        }
      ]
    },
    {
      "cell_type": "code",
      "source": [
        "print(aa)\n",
        "print(aa[1,1])   # using comma"
      ],
      "metadata": {
        "colab": {
          "base_uri": "https://localhost:8080/"
        },
        "id": "8NoqxYJJdvBS",
        "outputId": "b46af10a-fa01-4a4b-8994-8252b9f8db01"
      },
      "execution_count": null,
      "outputs": [
        {
          "output_type": "stream",
          "name": "stdout",
          "text": [
            "[[1 2 3]\n",
            " [4 5 6]\n",
            " [7 8 9]]\n",
            "5\n"
          ]
        }
      ]
    },
    {
      "cell_type": "code",
      "source": [
        "print(aaa)\n",
        "print(aaa[1,1,1]) "
      ],
      "metadata": {
        "colab": {
          "base_uri": "https://localhost:8080/"
        },
        "id": "1X_CN4ptd5Yy",
        "outputId": "c01b333a-2612-4bb0-86a9-0f5d5460b7bf"
      },
      "execution_count": null,
      "outputs": [
        {
          "output_type": "stream",
          "name": "stdout",
          "text": [
            "[[[ 1  2  3]\n",
            "  [ 4  5  6]\n",
            "  [ 7  8  9]]\n",
            "\n",
            " [[11 12 13]\n",
            "  [14 15 16]\n",
            "  [17 18 19]]\n",
            "\n",
            " [[21 22 23]\n",
            "  [24 25 26]\n",
            "  [27 28 29]]]\n",
            "15\n"
          ]
        }
      ]
    },
    {
      "cell_type": "code",
      "source": [
        "# Reshaping an array in Numpy\n"
      ],
      "metadata": {
        "id": "d_aPKMhMeQLs"
      },
      "execution_count": null,
      "outputs": []
    },
    {
      "cell_type": "code",
      "source": [
        "one=np.arange(1,26)\n",
        "print(one)\n",
        "two=one.reshape(5,5)   #reshape() convert from one to two dimension\n",
        "print(two)"
      ],
      "metadata": {
        "colab": {
          "base_uri": "https://localhost:8080/"
        },
        "id": "GODttNTbeXIw",
        "outputId": "13e5ae30-fe7c-44f3-c576-90c9f1986511"
      },
      "execution_count": null,
      "outputs": [
        {
          "output_type": "stream",
          "name": "stdout",
          "text": [
            "[ 1  2  3  4  5  6  7  8  9 10 11 12 13 14 15 16 17 18 19 20 21 22 23 24\n",
            " 25]\n",
            "[[ 1  2  3  4  5]\n",
            " [ 6  7  8  9 10]\n",
            " [11 12 13 14 15]\n",
            " [16 17 18 19 20]\n",
            " [21 22 23 24 25]]\n"
          ]
        }
      ]
    },
    {
      "cell_type": "code",
      "source": [
        "Newone=two.reshape(1,25)\n",
        "print(Newone)\n",
        "print(Newone.shape)"
      ],
      "metadata": {
        "colab": {
          "base_uri": "https://localhost:8080/"
        },
        "id": "YWpi8B0if7Pj",
        "outputId": "d01d869c-4a14-4276-c7f8-51a32a7cb9b6"
      },
      "execution_count": null,
      "outputs": [
        {
          "output_type": "stream",
          "name": "stdout",
          "text": [
            "[[ 1  2  3  4  5  6  7  8  9 10 11 12 13 14 15 16 17 18 19 20 21 22 23 24\n",
            "  25]]\n",
            "(1, 25)\n"
          ]
        }
      ]
    },
    {
      "cell_type": "code",
      "source": [
        "Newone=two.reshape(-1)\n",
        "print(Newone)"
      ],
      "metadata": {
        "colab": {
          "base_uri": "https://localhost:8080/"
        },
        "id": "yNT1dakKgPj6",
        "outputId": "67cef523-b506-4659-ca14-02658b0b6fab"
      },
      "execution_count": null,
      "outputs": [
        {
          "output_type": "stream",
          "name": "stdout",
          "text": [
            "[ 1  2  3  4  5  6  7  8  9 10 11 12 13 14 15 16 17 18 19 20 21 22 23 24\n",
            " 25]\n"
          ]
        }
      ]
    },
    {
      "cell_type": "code",
      "source": [
        "#ravel() "
      ],
      "metadata": {
        "id": "MIOg3nTCgFNy"
      },
      "execution_count": null,
      "outputs": []
    },
    {
      "cell_type": "code",
      "source": [
        "Newone=np.ravel(two)  #ravel() is a builit in function to convert from 2D to 1D\n",
        "print(Newone)"
      ],
      "metadata": {
        "colab": {
          "base_uri": "https://localhost:8080/"
        },
        "id": "77jOnxxCfasW",
        "outputId": "17b45b1e-5eb3-4bc2-ecda-77b900449404"
      },
      "execution_count": null,
      "outputs": [
        {
          "output_type": "stream",
          "name": "stdout",
          "text": [
            "[ 1  2  3  4  5  6  7  8  9 10 11 12 13 14 15 16 17 18 19 20 21 22 23 24\n",
            " 25]\n"
          ]
        }
      ]
    },
    {
      "cell_type": "code",
      "source": [
        "#Slicing in Numpy"
      ],
      "metadata": {
        "id": "LTWnPrArf6A8"
      },
      "execution_count": null,
      "outputs": []
    },
    {
      "cell_type": "code",
      "source": [
        "print(two)\n",
        "subtwo=two[1:3,1:4]\n",
        "print(subtwo)"
      ],
      "metadata": {
        "colab": {
          "base_uri": "https://localhost:8080/"
        },
        "id": "kzHBbVI4ga7q",
        "outputId": "dda8bf6a-c15f-4894-b95a-1befbeced73a"
      },
      "execution_count": null,
      "outputs": [
        {
          "output_type": "stream",
          "name": "stdout",
          "text": [
            "[[ 1  2  3  4  5]\n",
            " [ 6  7  8  9 10]\n",
            " [11 12 13 14 15]\n",
            " [16 17 18 19 20]\n",
            " [21 22 23 24 25]]\n",
            "[[ 7  8  9]\n",
            " [12 13 14]]\n"
          ]
        }
      ]
    },
    {
      "cell_type": "code",
      "source": [
        "print(two)\n",
        "subtwo=two[1:,1:]         # row start is 1, but end is not given\n",
        "print(subtwo)"
      ],
      "metadata": {
        "colab": {
          "base_uri": "https://localhost:8080/"
        },
        "id": "IK7fEU8XhdoF",
        "outputId": "d2d708a3-961d-4a49-d809-bc46b87f0d49"
      },
      "execution_count": null,
      "outputs": [
        {
          "output_type": "stream",
          "name": "stdout",
          "text": [
            "[[ 1  2  3  4  5]\n",
            " [ 6  7  8  9 10]\n",
            " [11 12 13 14 15]\n",
            " [16 17 18 19 20]\n",
            " [21 22 23 24 25]]\n",
            "[[ 7  8  9 10]\n",
            " [12 13 14 15]\n",
            " [17 18 19 20]\n",
            " [22 23 24 25]]\n"
          ]
        }
      ]
    },
    {
      "cell_type": "code",
      "source": [
        "# Built in methods to create Numpy Array\n",
        "1. arange()\n",
        "2. zeros()\n",
        "3. ones()\n",
        "4. eye()\n",
        "5. Linspace()\n",
        "6. Random Array -  rand(), randn(), randint()"
      ],
      "metadata": {
        "id": "rj4yW79Xh3KD"
      },
      "execution_count": null,
      "outputs": []
    },
    {
      "cell_type": "code",
      "source": [
        "s=np.arange(1,101)\n",
        "print(s)"
      ],
      "metadata": {
        "colab": {
          "base_uri": "https://localhost:8080/"
        },
        "id": "9lVyl9KctsXG",
        "outputId": "1ef64ec6-68af-4981-ee61-4a51434b8b90"
      },
      "execution_count": null,
      "outputs": [
        {
          "output_type": "stream",
          "name": "stdout",
          "text": [
            "[  1   2   3   4   5   6   7   8   9  10  11  12  13  14  15  16  17  18\n",
            "  19  20  21  22  23  24  25  26  27  28  29  30  31  32  33  34  35  36\n",
            "  37  38  39  40  41  42  43  44  45  46  47  48  49  50  51  52  53  54\n",
            "  55  56  57  58  59  60  61  62  63  64  65  66  67  68  69  70  71  72\n",
            "  73  74  75  76  77  78  79  80  81  82  83  84  85  86  87  88  89  90\n",
            "  91  92  93  94  95  96  97  98  99 100]\n"
          ]
        }
      ]
    },
    {
      "cell_type": "code",
      "source": [
        "s=np.zeros(5, dtype=np.int32)\n",
        "print(s)"
      ],
      "metadata": {
        "colab": {
          "base_uri": "https://localhost:8080/"
        },
        "id": "5S4CAhr3t8gv",
        "outputId": "07579acf-24ad-437e-feed-e9032a403e5b"
      },
      "execution_count": null,
      "outputs": [
        {
          "output_type": "stream",
          "name": "stdout",
          "text": [
            "[0 0 0 0 0]\n"
          ]
        }
      ]
    },
    {
      "cell_type": "code",
      "source": [
        "s=np.zeros([5,3])\n",
        "print(s)"
      ],
      "metadata": {
        "colab": {
          "base_uri": "https://localhost:8080/"
        },
        "id": "sSwusOIUuMB-",
        "outputId": "91260037-3563-4ebb-c8df-0cd4406e1e99"
      },
      "execution_count": null,
      "outputs": [
        {
          "output_type": "stream",
          "name": "stdout",
          "text": [
            "[[0. 0. 0.]\n",
            " [0. 0. 0.]\n",
            " [0. 0. 0.]\n",
            " [0. 0. 0.]\n",
            " [0. 0. 0.]]\n"
          ]
        }
      ]
    },
    {
      "cell_type": "code",
      "source": [
        "s=np.zeros([2,5,5])\n",
        "print(s)"
      ],
      "metadata": {
        "colab": {
          "base_uri": "https://localhost:8080/"
        },
        "id": "MJ33fqi7uWOm",
        "outputId": "40d5ceb1-ea48-4106-ea47-75395e2dc080"
      },
      "execution_count": null,
      "outputs": [
        {
          "output_type": "stream",
          "name": "stdout",
          "text": [
            "[[[0. 0. 0. 0. 0.]\n",
            "  [0. 0. 0. 0. 0.]\n",
            "  [0. 0. 0. 0. 0.]\n",
            "  [0. 0. 0. 0. 0.]\n",
            "  [0. 0. 0. 0. 0.]]\n",
            "\n",
            " [[0. 0. 0. 0. 0.]\n",
            "  [0. 0. 0. 0. 0.]\n",
            "  [0. 0. 0. 0. 0.]\n",
            "  [0. 0. 0. 0. 0.]\n",
            "  [0. 0. 0. 0. 0.]]]\n"
          ]
        }
      ]
    },
    {
      "cell_type": "code",
      "source": [
        "s=np.ones(5, dtype=np.int32)\n",
        "print(s)"
      ],
      "metadata": {
        "colab": {
          "base_uri": "https://localhost:8080/"
        },
        "id": "zA3BsDGzufv2",
        "outputId": "80412e91-6917-412a-962d-901a7cc61979"
      },
      "execution_count": null,
      "outputs": [
        {
          "output_type": "stream",
          "name": "stdout",
          "text": [
            "[1 1 1 1 1]\n"
          ]
        }
      ]
    },
    {
      "cell_type": "code",
      "source": [
        "s=np.ones([3,3])\n",
        "print(s)"
      ],
      "metadata": {
        "colab": {
          "base_uri": "https://localhost:8080/"
        },
        "id": "o2M5HlMhui5H",
        "outputId": "bf7cd692-3342-45bb-f04c-fd27cbb15c99"
      },
      "execution_count": null,
      "outputs": [
        {
          "output_type": "stream",
          "name": "stdout",
          "text": [
            "[[1. 1. 1.]\n",
            " [1. 1. 1.]\n",
            " [1. 1. 1.]]\n"
          ]
        }
      ]
    },
    {
      "cell_type": "code",
      "source": [
        "s=np.ones((2,3,3))\n",
        "print(s)"
      ],
      "metadata": {
        "colab": {
          "base_uri": "https://localhost:8080/"
        },
        "id": "taW72zLruooP",
        "outputId": "58611bb9-d0fa-4aec-fc1b-470671cc908e"
      },
      "execution_count": null,
      "outputs": [
        {
          "output_type": "stream",
          "name": "stdout",
          "text": [
            "[[[1. 1. 1.]\n",
            "  [1. 1. 1.]\n",
            "  [1. 1. 1.]]\n",
            "\n",
            " [[1. 1. 1.]\n",
            "  [1. 1. 1.]\n",
            "  [1. 1. 1.]]]\n"
          ]
        }
      ]
    },
    {
      "cell_type": "code",
      "source": [
        "s=np.ones((2,3,3),dtype=int)\n",
        "print(s)"
      ],
      "metadata": {
        "colab": {
          "base_uri": "https://localhost:8080/"
        },
        "id": "acdSYOkcutnv",
        "outputId": "6e65b003-a0f4-4bd4-9892-b1eee5c053f9"
      },
      "execution_count": null,
      "outputs": [
        {
          "output_type": "stream",
          "name": "stdout",
          "text": [
            "[[[1 1 1]\n",
            "  [1 1 1]\n",
            "  [1 1 1]]\n",
            "\n",
            " [[1 1 1]\n",
            "  [1 1 1]\n",
            "  [1 1 1]]]\n"
          ]
        }
      ]
    },
    {
      "cell_type": "code",
      "source": [
        "s=np.ones((2,3,3),dtype=np.int32)\n",
        "print(s)"
      ],
      "metadata": {
        "colab": {
          "base_uri": "https://localhost:8080/"
        },
        "id": "TBFi4XHivP4v",
        "outputId": "2a019dbe-f544-4608-ff2c-453301ba3312"
      },
      "execution_count": null,
      "outputs": [
        {
          "output_type": "stream",
          "name": "stdout",
          "text": [
            "[[[1 1 1]\n",
            "  [1 1 1]\n",
            "  [1 1 1]]\n",
            "\n",
            " [[1 1 1]\n",
            "  [1 1 1]\n",
            "  [1 1 1]]]\n"
          ]
        }
      ]
    },
    {
      "cell_type": "code",
      "source": [
        "#eye - Identical Matrix"
      ],
      "metadata": {
        "id": "1RA6SzCEwKLG"
      },
      "execution_count": null,
      "outputs": []
    },
    {
      "cell_type": "code",
      "source": [
        "s=np.eye(3,3,dtype=int)\n",
        "print(s)"
      ],
      "metadata": {
        "colab": {
          "base_uri": "https://localhost:8080/"
        },
        "id": "g9XD2aQOumwV",
        "outputId": "ea81b56d-4b93-465f-cee5-0a4d6f1f10c8"
      },
      "execution_count": null,
      "outputs": [
        {
          "output_type": "stream",
          "name": "stdout",
          "text": [
            "[[1 0 0]\n",
            " [0 1 0]\n",
            " [0 0 1]]\n"
          ]
        }
      ]
    },
    {
      "cell_type": "code",
      "source": [
        "s=np.eye(3,3,k=1, dtype=int)\n",
        "print(s)"
      ],
      "metadata": {
        "colab": {
          "base_uri": "https://localhost:8080/"
        },
        "id": "34xkGhJAwMK2",
        "outputId": "1689b83e-96bf-4c1b-db1f-0dd2b94d2408"
      },
      "execution_count": null,
      "outputs": [
        {
          "output_type": "stream",
          "name": "stdout",
          "text": [
            "[[0 1 0]\n",
            " [0 0 1]\n",
            " [0 0 0]]\n"
          ]
        }
      ]
    },
    {
      "cell_type": "code",
      "source": [
        "s=np.eye(3,3,k=-2,dtype=int)\n",
        "print(s)"
      ],
      "metadata": {
        "colab": {
          "base_uri": "https://localhost:8080/"
        },
        "id": "2OsqmbVGwZg8",
        "outputId": "36d29bad-f17b-4e72-905d-e90c569e0f6c"
      },
      "execution_count": null,
      "outputs": [
        {
          "output_type": "stream",
          "name": "stdout",
          "text": [
            "[[0 0 0]\n",
            " [0 0 0]\n",
            " [1 0 0]]\n"
          ]
        }
      ]
    },
    {
      "cell_type": "code",
      "source": [
        "#linspace()"
      ],
      "metadata": {
        "id": "v0VQheNNwzjA"
      },
      "execution_count": null,
      "outputs": []
    },
    {
      "cell_type": "code",
      "source": [
        "l=np.linspace(1,10,15)  #start,end, no.of elements\n",
        "print(l)"
      ],
      "metadata": {
        "colab": {
          "base_uri": "https://localhost:8080/"
        },
        "id": "b_qW3TQmw18Q",
        "outputId": "9313667b-92ab-4a00-e6b5-4e86a64b14c8"
      },
      "execution_count": null,
      "outputs": [
        {
          "output_type": "stream",
          "name": "stdout",
          "text": [
            "[ 1.          1.64285714  2.28571429  2.92857143  3.57142857  4.21428571\n",
            "  4.85714286  5.5         6.14285714  6.78571429  7.42857143  8.07142857\n",
            "  8.71428571  9.35714286 10.        ]\n"
          ]
        }
      ]
    },
    {
      "cell_type": "code",
      "source": [
        "l=np.linspace(1,10,5)  #start,end, no.of elements\n",
        "print(l)"
      ],
      "metadata": {
        "colab": {
          "base_uri": "https://localhost:8080/"
        },
        "id": "QiRrJQtAx5GR",
        "outputId": "79378d94-0ead-4985-af19-c3542ec78ac5"
      },
      "execution_count": null,
      "outputs": [
        {
          "output_type": "stream",
          "name": "stdout",
          "text": [
            "[ 1.    3.25  5.5   7.75 10.  ]\n"
          ]
        }
      ]
    },
    {
      "cell_type": "code",
      "source": [
        "l=np.linspace(1,10,15,retstep=True)  #start,end, no.of elements\n",
        "print(l)"
      ],
      "metadata": {
        "colab": {
          "base_uri": "https://localhost:8080/"
        },
        "id": "ov6_2RSfx9Tm",
        "outputId": "14f68184-d33d-49ca-80b9-ea8aea3794e7"
      },
      "execution_count": null,
      "outputs": [
        {
          "output_type": "stream",
          "name": "stdout",
          "text": [
            "(array([ 1.        ,  1.64285714,  2.28571429,  2.92857143,  3.57142857,\n",
            "        4.21428571,  4.85714286,  5.5       ,  6.14285714,  6.78571429,\n",
            "        7.42857143,  8.07142857,  8.71428571,  9.35714286, 10.        ]), 0.6428571428571429)\n"
          ]
        }
      ]
    },
    {
      "cell_type": "code",
      "source": [
        "l=np.linspace(1,10,30,retstep=True)  #start,end, no.of elements\n",
        "print(l)"
      ],
      "metadata": {
        "colab": {
          "base_uri": "https://localhost:8080/"
        },
        "id": "NdsrWgxdyRyC",
        "outputId": "a16b4508-6522-4d3e-91a9-9b2d93b27f50"
      },
      "execution_count": null,
      "outputs": [
        {
          "output_type": "stream",
          "name": "stdout",
          "text": [
            "(array([ 1.        ,  1.31034483,  1.62068966,  1.93103448,  2.24137931,\n",
            "        2.55172414,  2.86206897,  3.17241379,  3.48275862,  3.79310345,\n",
            "        4.10344828,  4.4137931 ,  4.72413793,  5.03448276,  5.34482759,\n",
            "        5.65517241,  5.96551724,  6.27586207,  6.5862069 ,  6.89655172,\n",
            "        7.20689655,  7.51724138,  7.82758621,  8.13793103,  8.44827586,\n",
            "        8.75862069,  9.06896552,  9.37931034,  9.68965517, 10.        ]), 0.3103448275862069)\n"
          ]
        }
      ]
    },
    {
      "cell_type": "code",
      "source": [
        "# Random Array "
      ],
      "metadata": {
        "id": "ynq2Io2AR8TE"
      },
      "execution_count": null,
      "outputs": []
    },
    {
      "cell_type": "code",
      "source": [
        "#rand()"
      ],
      "metadata": {
        "id": "TcsWErRSUeWj"
      },
      "execution_count": null,
      "outputs": []
    },
    {
      "cell_type": "code",
      "source": [
        "ra=np.random.rand(50)   # values between 0 and 1\n",
        "print(ra)"
      ],
      "metadata": {
        "colab": {
          "base_uri": "https://localhost:8080/"
        },
        "id": "9AtzAhcCShyc",
        "outputId": "53d32f6a-8e59-44be-b79a-3989d7c0fb70"
      },
      "execution_count": null,
      "outputs": [
        {
          "output_type": "stream",
          "name": "stdout",
          "text": [
            "[0.35954429 0.27447662 0.84852136 0.36701514 0.91287822 0.29822642\n",
            " 0.68110139 0.13736674 0.18211267 0.1001592  0.5778922  0.76522315\n",
            " 0.02858771 0.99812132 0.82627939 0.26842818 0.96711795 0.85036793\n",
            " 0.92292769 0.40520318 0.08500374 0.78486051 0.95129694 0.7327043\n",
            " 0.2162757  0.88037796 0.09948412 0.87215656 0.62228712 0.1572027\n",
            " 0.42578428 0.58826464 0.86954768 0.36600157 0.45991871 0.66817305\n",
            " 0.36127638 0.59694518 0.40467254 0.95801069 0.29768017 0.42610737\n",
            " 0.60710233 0.01195667 0.77080362 0.06658959 0.41842445 0.99341986\n",
            " 0.51628092 0.61204892]\n"
          ]
        }
      ]
    },
    {
      "cell_type": "code",
      "source": [
        "ra=np.random.rand(5,3)   # values between 0 and 1\n",
        "print(ra)"
      ],
      "metadata": {
        "colab": {
          "base_uri": "https://localhost:8080/"
        },
        "id": "dUy3Y6y7Sr_q",
        "outputId": "03119360-a78e-4c64-d774-5da49aca9495"
      },
      "execution_count": null,
      "outputs": [
        {
          "output_type": "stream",
          "name": "stdout",
          "text": [
            "[[0.1379976  0.76051164 0.5048168 ]\n",
            " [0.48743683 0.81710557 0.03064068]\n",
            " [0.89545174 0.58816847 0.5092785 ]\n",
            " [0.99126136 0.11973923 0.46593789]\n",
            " [0.99963415 0.60818867 0.22630446]]\n"
          ]
        }
      ]
    },
    {
      "cell_type": "code",
      "source": [
        "#randn()"
      ],
      "metadata": {
        "id": "SElkRzdeUjBa"
      },
      "execution_count": null,
      "outputs": []
    },
    {
      "cell_type": "code",
      "source": [
        "ra=np.random.randn(5)   # Normal (Gaussian) distribution of mean 0 and variance 1\n",
        "print(ra)"
      ],
      "metadata": {
        "colab": {
          "base_uri": "https://localhost:8080/"
        },
        "id": "Q9lEjI9FS5XK",
        "outputId": "798dab94-e0f5-4bf8-8746-de14d5f40755"
      },
      "execution_count": null,
      "outputs": [
        {
          "output_type": "stream",
          "name": "stdout",
          "text": [
            "[ 0.2883826  -0.83929114  0.27953606  2.32718889  1.54717343]\n"
          ]
        }
      ]
    },
    {
      "cell_type": "code",
      "source": [
        "ra=np.random.randn(5,3)   # Normal (Gaussian) distribution of mean 0 and variance 1\n",
        "print(ra)"
      ],
      "metadata": {
        "colab": {
          "base_uri": "https://localhost:8080/"
        },
        "id": "Ex2qHiYtT0Fl",
        "outputId": "0ae62d29-d5e6-4160-880c-3333f4578ce9"
      },
      "execution_count": null,
      "outputs": [
        {
          "output_type": "stream",
          "name": "stdout",
          "text": [
            "[[-2.73110438  0.62754862  0.37358318]\n",
            " [ 0.24006317 -2.40878709  0.30157705]\n",
            " [-0.85687559  1.23090137 -0.01831022]\n",
            " [ 2.94253819 -1.25160009 -1.11231997]\n",
            " [-1.50543    -0.17826834  0.29843822]]\n"
          ]
        }
      ]
    },
    {
      "cell_type": "code",
      "source": [
        "# randint()"
      ],
      "metadata": {
        "id": "vAajKzq7UmIC"
      },
      "execution_count": null,
      "outputs": []
    },
    {
      "cell_type": "code",
      "source": [
        "ra=np.random.randint(100)   # Integer value randomly \n",
        "print(ra)"
      ],
      "metadata": {
        "colab": {
          "base_uri": "https://localhost:8080/"
        },
        "id": "_wkuPFkXT-bi",
        "outputId": "fffc8286-b521-44e4-8a56-fffafead68ff"
      },
      "execution_count": null,
      "outputs": [
        {
          "output_type": "stream",
          "name": "stdout",
          "text": [
            "50\n"
          ]
        }
      ]
    },
    {
      "cell_type": "code",
      "source": [
        "ra=np.random.randint(10,100)   # Integer value randomly \n",
        "print(ra)"
      ],
      "metadata": {
        "colab": {
          "base_uri": "https://localhost:8080/"
        },
        "id": "S8IAvWrPUVQD",
        "outputId": "1f67fa70-16eb-42c1-fa39-9e9542597a02"
      },
      "execution_count": null,
      "outputs": [
        {
          "output_type": "stream",
          "name": "stdout",
          "text": [
            "55\n"
          ]
        }
      ]
    },
    {
      "cell_type": "code",
      "source": [
        "ra=np.random.randint(10,100,5)   # Integer value randomly \n",
        "print(ra)"
      ],
      "metadata": {
        "colab": {
          "base_uri": "https://localhost:8080/"
        },
        "id": "L-xW6BOEUYtK",
        "outputId": "1bc3e61b-0612-4066-86ec-d1619a147e0f"
      },
      "execution_count": null,
      "outputs": [
        {
          "output_type": "stream",
          "name": "stdout",
          "text": [
            "[88 17 77 33 63]\n"
          ]
        }
      ]
    },
    {
      "cell_type": "code",
      "source": [
        "# Arithmetic Operations"
      ],
      "metadata": {
        "id": "ddtW60trUc27"
      },
      "execution_count": null,
      "outputs": []
    },
    {
      "cell_type": "code",
      "source": [
        "a=np.array([10,20,30,40,50]) \n",
        "b=np.array([5,10,15,20,25])\n",
        "print(\"addition\", a+b)\n",
        "print(\"subtraction\", a-b)\n",
        "print(\"multiplication\", a*b)\n",
        "print(\"division\", a/b)\n",
        "print(\"floor division\", a//b)\n",
        "print(\"modulo\", a%b)"
      ],
      "metadata": {
        "colab": {
          "base_uri": "https://localhost:8080/"
        },
        "id": "Z_cr6DRtUttj",
        "outputId": "aaa2be75-0b44-4a6c-b701-186db1a93d08"
      },
      "execution_count": null,
      "outputs": [
        {
          "output_type": "stream",
          "name": "stdout",
          "text": [
            "addition [15 30 45 60 75]\n",
            "subtraction [ 5 10 15 20 25]\n",
            "multiplication [  50  200  450  800 1250]\n",
            "division [2. 2. 2. 2. 2.]\n",
            "floor division [2 2 2 2 2]\n",
            "modulo [0 0 0 0 0]\n"
          ]
        }
      ]
    },
    {
      "cell_type": "code",
      "source": [
        "# Broadcasting"
      ],
      "metadata": {
        "id": "OcAlqa1cVm16"
      },
      "execution_count": null,
      "outputs": []
    },
    {
      "cell_type": "code",
      "source": [
        "a=np.array([10,20,30,40,50]) # 50 will be added with each element in an array\n",
        "b=a+50\n",
        "print(b)"
      ],
      "metadata": {
        "colab": {
          "base_uri": "https://localhost:8080/"
        },
        "id": "1WuTWU0RVvTJ",
        "outputId": "79279fb5-a2b0-47be-eeeb-0965bb1371e5"
      },
      "execution_count": null,
      "outputs": [
        {
          "output_type": "stream",
          "name": "stdout",
          "text": [
            "[ 60  70  80  90 100]\n"
          ]
        }
      ]
    },
    {
      "cell_type": "code",
      "source": [
        "# Mathematical Functions\n",
        "1. sqrt()\n",
        "2. exp()\n",
        "3. sin()\n",
        "4. cos()\n",
        "5. sum()\n",
        "6. log()\n",
        "7. std()\n",
        "8. max()\n",
        "9. min()\n",
        "10. argmax()\n",
        "11. argmin()\n"
      ],
      "metadata": {
        "id": "eeJi792oXXKz"
      },
      "execution_count": null,
      "outputs": []
    },
    {
      "cell_type": "code",
      "source": [
        ""
      ],
      "metadata": {
        "id": "AeuoSTlsZ_bm"
      },
      "execution_count": null,
      "outputs": []
    },
    {
      "cell_type": "code",
      "source": [
        "a=100\n",
        "print(np.sqrt(a))\n",
        "print(int(np.sqrt(a)))"
      ],
      "metadata": {
        "colab": {
          "base_uri": "https://localhost:8080/"
        },
        "id": "WYHGeogfXi6E",
        "outputId": "b197b256-8c92-4d6a-da9c-b346e953a1d4"
      },
      "execution_count": null,
      "outputs": [
        {
          "output_type": "stream",
          "name": "stdout",
          "text": [
            "10.0\n",
            "10\n"
          ]
        }
      ]
    },
    {
      "cell_type": "code",
      "source": [
        "a=np.array([10,20,30,40,50]) \n",
        "print(np.sqrt(a))\n"
      ],
      "metadata": {
        "colab": {
          "base_uri": "https://localhost:8080/"
        },
        "id": "GZbxFap6YDBj",
        "outputId": "30d4f6d4-9b33-45d2-f225-17d2a735146b"
      },
      "execution_count": null,
      "outputs": [
        {
          "output_type": "stream",
          "name": "stdout",
          "text": [
            "[3.16227766 4.47213595 5.47722558 6.32455532 7.07106781]\n"
          ]
        }
      ]
    },
    {
      "cell_type": "code",
      "source": [
        "a=np.array([10,20,30,40,50]) \n",
        "print(np.exp(a))"
      ],
      "metadata": {
        "colab": {
          "base_uri": "https://localhost:8080/"
        },
        "id": "jjoCydshX1rK",
        "outputId": "0efcfe04-c2de-4ea5-feb5-db0599476c6b"
      },
      "execution_count": null,
      "outputs": [
        {
          "output_type": "stream",
          "name": "stdout",
          "text": [
            "[2.20264658e+04 4.85165195e+08 1.06864746e+13 2.35385267e+17\n",
            " 5.18470553e+21]\n"
          ]
        }
      ]
    },
    {
      "cell_type": "code",
      "source": [
        "a=np.array([10,20,30,40,50]) \n",
        "print(\"sine\", np.sin(a))\n",
        "print(\"cos\", np.cos(a))\n",
        "print(\"log\", np.log(a))\n",
        "print(\"std\", np.std(a))\n",
        "print(\"sum\",np.sum(a))\n"
      ],
      "metadata": {
        "colab": {
          "base_uri": "https://localhost:8080/"
        },
        "id": "nrNjxXJqYclN",
        "outputId": "3b917937-ee6b-4efb-c7c0-e0394ba509a7"
      },
      "execution_count": null,
      "outputs": [
        {
          "output_type": "stream",
          "name": "stdout",
          "text": [
            "sine [-0.54402111  0.91294525 -0.98803162  0.74511316 -0.26237485]\n",
            "cos [-0.83907153  0.40808206  0.15425145 -0.66693806  0.96496603]\n",
            "log [2.30258509 2.99573227 3.40119738 3.68887945 3.91202301]\n",
            "std 14.142135623730951\n",
            "sum 150\n"
          ]
        }
      ]
    },
    {
      "cell_type": "code",
      "source": [
        "a=np.array([[10,20,30],[40,50,60]])\n",
        "print(\"sum of 2D\", a.sum()) "
      ],
      "metadata": {
        "colab": {
          "base_uri": "https://localhost:8080/"
        },
        "id": "kGUI-wvaY_PD",
        "outputId": "a9261b4d-3dce-4a84-a7de-40a6e8ed9d42"
      },
      "execution_count": null,
      "outputs": [
        {
          "output_type": "stream",
          "name": "stdout",
          "text": [
            "sum of 2D 210\n"
          ]
        }
      ]
    },
    {
      "cell_type": "code",
      "source": [
        "print(a)\n",
        "print(\"sum of 2D\", a.sum(axis=0))  # sum of all the columns"
      ],
      "metadata": {
        "colab": {
          "base_uri": "https://localhost:8080/"
        },
        "id": "WsuQAM5KZawr",
        "outputId": "2fa60b43-ef30-4a4a-87f3-c6511cfe34fa"
      },
      "execution_count": null,
      "outputs": [
        {
          "output_type": "stream",
          "name": "stdout",
          "text": [
            "[[10 20 30]\n",
            " [40 50 60]]\n",
            "sum of 2D [50 70 90]\n"
          ]
        }
      ]
    },
    {
      "cell_type": "code",
      "source": [
        "print(a) \n",
        "print(\"sum of 2D\", a.sum(axis=1)) # sum of all the rows"
      ],
      "metadata": {
        "colab": {
          "base_uri": "https://localhost:8080/"
        },
        "id": "rFoYLE5hZhAT",
        "outputId": "ed125081-e919-4f27-cecc-652015c571f0"
      },
      "execution_count": null,
      "outputs": [
        {
          "output_type": "stream",
          "name": "stdout",
          "text": [
            "[[10 20 30]\n",
            " [40 50 60]]\n",
            "sum of 2D [ 60 150]\n"
          ]
        }
      ]
    },
    {
      "cell_type": "code",
      "source": [
        "print(a) \n",
        "print(\"Maximum\", a.max())"
      ],
      "metadata": {
        "colab": {
          "base_uri": "https://localhost:8080/"
        },
        "id": "hO1cnXVvaAg-",
        "outputId": "c592996a-436c-4355-fabd-0bde8fe8b141"
      },
      "execution_count": null,
      "outputs": [
        {
          "output_type": "stream",
          "name": "stdout",
          "text": [
            "[[10 20 30]\n",
            " [40 50 60]]\n",
            "Maximum 60\n"
          ]
        }
      ]
    },
    {
      "cell_type": "code",
      "source": [
        "print(a) \n",
        "print(\"Minimum\", a.min())"
      ],
      "metadata": {
        "colab": {
          "base_uri": "https://localhost:8080/"
        },
        "id": "i-jXV4wfaIFE",
        "outputId": "6a01d101-0093-4799-a8db-6ebfa7ceee8c"
      },
      "execution_count": null,
      "outputs": [
        {
          "output_type": "stream",
          "name": "stdout",
          "text": [
            "[[10 20 30]\n",
            " [40 50 60]]\n",
            "Minimim 10\n"
          ]
        }
      ]
    },
    {
      "cell_type": "code",
      "source": [
        "print(a) \n",
        "print(\"Indix - Maximum :\", a.argmax())"
      ],
      "metadata": {
        "colab": {
          "base_uri": "https://localhost:8080/"
        },
        "id": "ZCDmcmyRaWEc",
        "outputId": "1fca7751-fda4-4d39-9f50-c7f2c1569054"
      },
      "execution_count": null,
      "outputs": [
        {
          "output_type": "stream",
          "name": "stdout",
          "text": [
            "[[10 20 30]\n",
            " [40 50 60]]\n",
            "Indix - Maximum : 5\n"
          ]
        }
      ]
    },
    {
      "cell_type": "code",
      "source": [
        "print(a) \n",
        "print(\"Index - Minimum :\", a.argmin())"
      ],
      "metadata": {
        "colab": {
          "base_uri": "https://localhost:8080/"
        },
        "id": "kEUpBuuiaWXT",
        "outputId": "435d75e3-04ce-46d5-f41b-f11e80d00049"
      },
      "execution_count": null,
      "outputs": [
        {
          "output_type": "stream",
          "name": "stdout",
          "text": [
            "[[10 20 30]\n",
            " [40 50 60]]\n",
            "Index - Minimum : 0\n"
          ]
        }
      ]
    }
  ]
}